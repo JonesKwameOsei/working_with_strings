{
 "cells": [
  {
   "cell_type": "code",
   "execution_count": 2,
   "id": "63a76623",
   "metadata": {
    "language_info": {
     "name": "polyglot-notebook"
    },
    "polyglot_notebook": {
     "kernelName": "csharp"
    }
   },
   "outputs": [
    {
     "name": "stdout",
     "output_type": "stream",
     "text": [
      "Jones\r\n"
     ]
    }
   ],
   "source": [
    "string myName = \"Jones\";\n",
    "Console.WriteLine(myName);"
   ]
  },
  {
   "cell_type": "code",
   "execution_count": 5,
   "id": "2980e08b",
   "metadata": {
    "language_info": {
     "name": "polyglot-notebook"
    },
    "polyglot_notebook": {
     "kernelName": "csharp"
    }
   },
   "outputs": [
    {
     "name": "stdout",
     "output_type": "stream",
     "text": [
      "Anthony\r\n"
     ]
    }
   ],
   "source": [
    "string afriend = \"Anthony\";\n",
    "Console.WriteLine(afriend);"
   ]
  },
  {
   "cell_type": "markdown",
   "id": "8c6edb4e",
   "metadata": {},
   "source": [
    "Reasign the variable to a new value"
   ]
  },
  {
   "cell_type": "code",
   "execution_count": 7,
   "id": "4f0b65ad",
   "metadata": {
    "language_info": {
     "name": "polyglot-notebook"
    },
    "polyglot_notebook": {
     "kernelName": "csharp"
    }
   },
   "outputs": [
    {
     "name": "stdout",
     "output_type": "stream",
     "text": [
      "Kwame\r\n"
     ]
    }
   ],
   "source": [
    "afriend = \"Kwame\";\n",
    "Console.WriteLine(afriend);"
   ]
  },
  {
   "cell_type": "markdown",
   "id": "6489f09d",
   "metadata": {},
   "source": [
    "String Concatenation"
   ]
  },
  {
   "cell_type": "markdown",
   "id": "580d4c93",
   "metadata": {},
   "source": [
    "Hello Kwame!"
   ]
  },
  {
   "cell_type": "code",
   "execution_count": 10,
   "id": "75a9e80b",
   "metadata": {
    "language_info": {
     "name": "polyglot-notebook"
    },
    "polyglot_notebook": {
     "kernelName": "csharp"
    }
   },
   "outputs": [
    {
     "name": "stdout",
     "output_type": "stream",
     "text": [
      "Hello Kwame!\r\n"
     ]
    }
   ],
   "source": [
    "Console.WriteLine(\"Hello \" + afriend + \"!\");"
   ]
  },
  {
   "cell_type": "code",
   "execution_count": 11,
   "id": "718d4600",
   "metadata": {
    "language_info": {
     "name": "polyglot-notebook"
    },
    "polyglot_notebook": {
     "kernelName": "csharp"
    }
   },
   "outputs": [
    {
     "ename": "Error",
     "evalue": "(1,19): error CS1056: Unexpected character '`'\r\n(1,26): error CS1056: Unexpected character '$'\r\n(1,27): error CS1026: ) expected\r\n(1,27): error CS1002: ; expected\r\n(1,35): error CS1002: ; expected\r\n(1,37): error CS1525: Invalid expression term ''\r\n(1,37): error CS1002: ; expected\r\n(1,37): error CS1056: Unexpected character '`'\r\n(1,38): error CS7017: Member definition, statement, or end-of-file expected",
     "output_type": "error",
     "traceback": [
      "(1,19): error CS1056: Unexpected character '`'\r\n",
      "(1,26): error CS1056: Unexpected character '$'\r\n",
      "(1,27): error CS1026: ) expected\r\n",
      "(1,27): error CS1002: ; expected\r\n",
      "(1,35): error CS1002: ; expected\r\n",
      "(1,37): error CS1525: Invalid expression term ''\r\n",
      "(1,37): error CS1002: ; expected\r\n",
      "(1,37): error CS1056: Unexpected character '`'\r\n",
      "(1,38): error CS7017: Member definition, statement, or end-of-file expected"
     ]
    }
   ],
   "source": [
    "Console.WriteLine(`Hello ${afriend}!`);"
   ]
  },
  {
   "cell_type": "code",
   "execution_count": 12,
   "id": "9ac9252a",
   "metadata": {
    "language_info": {
     "name": "polyglot-notebook"
    },
    "polyglot_notebook": {
     "kernelName": "csharp"
    }
   },
   "outputs": [
    {
     "name": "stdout",
     "output_type": "stream",
     "text": [
      "Hello Kwame!\r\n"
     ]
    }
   ],
   "source": [
    "Console.WriteLine($\"Hello {afriend}!\");"
   ]
  },
  {
   "cell_type": "markdown",
   "id": "259378c1",
   "metadata": {},
   "source": [
    "Work with String"
   ]
  },
  {
   "cell_type": "code",
   "execution_count": 14,
   "id": "16e46150",
   "metadata": {
    "language_info": {
     "name": "polyglot-notebook"
    },
    "polyglot_notebook": {
     "kernelName": "csharp"
    }
   },
   "outputs": [
    {
     "name": "stdout",
     "output_type": "stream",
     "text": [
      "My friends are Derrick and Samuel\r\n"
     ]
    }
   ],
   "source": [
    "string firstFriend = \"Derrick\";\n",
    "string secondFriend = \"Samuel\";\n",
    "Console.WriteLine($\"My friends are {firstFriend} and {secondFriend}\");\n"
   ]
  },
  {
   "cell_type": "markdown",
   "id": "8b3dbadb",
   "metadata": {},
   "source": [
    "Check String Length"
   ]
  },
  {
   "cell_type": "code",
   "execution_count": 16,
   "id": "8983091b",
   "metadata": {
    "language_info": {
     "name": "polyglot-notebook"
    },
    "polyglot_notebook": {
     "kernelName": "csharp"
    }
   },
   "outputs": [
    {
     "name": "stdout",
     "output_type": "stream",
     "text": [
      "The name Derrick has 7 letters.\r\n"
     ]
    }
   ],
   "source": [
    "Console.WriteLine($\"The name {firstFriend} has {firstFriend.Length} letters.\")"
   ]
  },
  {
   "cell_type": "code",
   "execution_count": 17,
   "id": "a6f5aac0",
   "metadata": {
    "language_info": {
     "name": "polyglot-notebook"
    },
    "polyglot_notebook": {
     "kernelName": "csharp"
    }
   },
   "outputs": [
    {
     "name": "stdout",
     "output_type": "stream",
     "text": [
      "The name Samuel has 6 letters.\r\n"
     ]
    }
   ],
   "source": [
    "Console.WriteLine($\"The name {secondFriend} has {secondFriend.Length} letters.\")\n"
   ]
  },
  {
   "cell_type": "markdown",
   "id": "90fe18f2",
   "metadata": {},
   "source": [
    "Trim String"
   ]
  },
  {
   "cell_type": "code",
   "execution_count": 18,
   "id": "c962d901",
   "metadata": {
    "language_info": {
     "name": "polyglot-notebook"
    },
    "polyglot_notebook": {
     "kernelName": "csharp"
    }
   },
   "outputs": [
    {
     "name": "stdout",
     "output_type": "stream",
     "text": [
      "      Hello World!\r\n"
     ]
    }
   ],
   "source": [
    "string greetings = \"      Hello World!\";\n",
    "Console.WriteLine(greetings);"
   ]
  },
  {
   "cell_type": "code",
   "execution_count": 19,
   "id": "ebe22f41",
   "metadata": {
    "language_info": {
     "name": "polyglot-notebook"
    },
    "polyglot_notebook": {
     "kernelName": "csharp"
    }
   },
   "outputs": [
    {
     "name": "stdout",
     "output_type": "stream",
     "text": [
      "..........Hello World\r\n"
     ]
    }
   ],
   "source": [
    "greetings = \"..........Hello World\";\n",
    "Console.WriteLine(greetings);"
   ]
  },
  {
   "cell_type": "code",
   "execution_count": 20,
   "id": "cba81387",
   "metadata": {
    "language_info": {
     "name": "polyglot-notebook"
    },
    "polyglot_notebook": {
     "kernelName": "csharp"
    }
   },
   "outputs": [
    {
     "name": "stdout",
     "output_type": "stream",
     "text": [
      "..........Hello World\r\n"
     ]
    }
   ],
   "source": [
    "string trimGreeting = greetings.TrimStart();\n",
    "Console.WriteLine(trimGreeting);"
   ]
  },
  {
   "cell_type": "code",
   "execution_count": 22,
   "id": "e4d2f194",
   "metadata": {
    "language_info": {
     "name": "polyglot-notebook"
    },
    "polyglot_notebook": {
     "kernelName": "csharp"
    }
   },
   "outputs": [
    {
     "name": "stdout",
     "output_type": "stream",
     "text": [
      "      Hello World!\r\n"
     ]
    }
   ],
   "source": [
    "string greetings = \"      Hello World!\";\n",
    "Console.WriteLine(greetings2);"
   ]
  },
  {
   "cell_type": "code",
   "execution_count": 23,
   "id": "952a7a25",
   "metadata": {
    "language_info": {
     "name": "polyglot-notebook"
    },
    "polyglot_notebook": {
     "kernelName": "csharp"
    }
   },
   "outputs": [
    {
     "name": "stdout",
     "output_type": "stream",
     "text": [
      "Hello World!\r\n"
     ]
    }
   ],
   "source": [
    "string trimGreeting2 = greetings.TrimStart();\n",
    "Console.WriteLine(trimGreeting2);"
   ]
  },
  {
   "cell_type": "code",
   "execution_count": 24,
   "id": "a120fa00",
   "metadata": {
    "language_info": {
     "name": "polyglot-notebook"
    },
    "polyglot_notebook": {
     "kernelName": "csharp"
    }
   },
   "outputs": [
    {
     "name": "stdout",
     "output_type": "stream",
     "text": [
      "Hello World!             \r\n"
     ]
    }
   ],
   "source": [
    "greetings = \"Hello World!             \";\n",
    "Console.WriteLine(greetings);"
   ]
  },
  {
   "cell_type": "code",
   "execution_count": 25,
   "id": "fc504b08",
   "metadata": {
    "language_info": {
     "name": "polyglot-notebook"
    },
    "polyglot_notebook": {
     "kernelName": "csharp"
    }
   },
   "outputs": [
    {
     "name": "stdout",
     "output_type": "stream",
     "text": [
      "Hello World!\r\n"
     ]
    }
   ],
   "source": [
    "trimGreeting = greetings.TrimEnd();\n",
    "Console.WriteLine(trimGreeting);"
   ]
  },
  {
   "cell_type": "markdown",
   "id": "0356541d",
   "metadata": {},
   "source": [
    "Replace String"
   ]
  },
  {
   "cell_type": "code",
   "execution_count": 26,
   "id": "bffda967",
   "metadata": {
    "language_info": {
     "name": "polyglot-notebook"
    },
    "polyglot_notebook": {
     "kernelName": "csharp"
    }
   },
   "outputs": [
    {
     "name": "stdout",
     "output_type": "stream",
     "text": [
      "Hello World\r\n"
     ]
    }
   ],
   "source": [
    "string sayHello = \"Hello World\";\n",
    "Console.WriteLine(sayHello);"
   ]
  },
  {
   "cell_type": "code",
   "execution_count": 27,
   "id": "7429ebcc",
   "metadata": {
    "language_info": {
     "name": "polyglot-notebook"
    },
    "polyglot_notebook": {
     "kernelName": "csharp"
    }
   },
   "outputs": [
    {
     "name": "stdout",
     "output_type": "stream",
     "text": [
      "Greetings World\r\n"
     ]
    }
   ],
   "source": [
    "sayHello = sayHello.Replace(\"Hello\", \"Greetings\");\n",
    "Console.WriteLine(sayHello);"
   ]
  },
  {
   "cell_type": "code",
   "execution_count": 28,
   "id": "b149de61",
   "metadata": {
    "language_info": {
     "name": "polyglot-notebook"
    },
    "polyglot_notebook": {
     "kernelName": "csharp"
    }
   },
   "outputs": [
    {
     "name": "stdout",
     "output_type": "stream",
     "text": [
      "Greetings Friends\r\n"
     ]
    }
   ],
   "source": [
    "sayHello = sayHello.Replace(\"World\", \"Friends\");\n",
    "Console.WriteLine(sayHello);"
   ]
  },
  {
   "cell_type": "markdown",
   "id": "f27548f9",
   "metadata": {},
   "source": [
    "Search String"
   ]
  },
  {
   "cell_type": "code",
   "execution_count": 29,
   "id": "54d3800d",
   "metadata": {
    "language_info": {
     "name": "polyglot-notebook"
    },
    "polyglot_notebook": {
     "kernelName": "csharp"
    }
   },
   "outputs": [
    {
     "name": "stdout",
     "output_type": "stream",
     "text": [
      "True\n",
      "False\n"
     ]
    }
   ],
   "source": [
    "string songLyrics = \"If I leave you thunder fire me\";\n",
    "Console.WriteLine(songLyrics.Contains(\"thunder\"));\n",
    "Console.WriteLine(songLyrics.Contains(\"goodbye\"));"
   ]
  }
 ],
 "metadata": {
  "kernelspec": {
   "display_name": ".NET (C#)",
   "language": "C#",
   "name": ".net-csharp"
  },
  "language_info": {
   "name": "polyglot-notebook"
  },
  "polyglot_notebook": {
   "kernelInfo": {
    "defaultKernelName": "csharp",
    "items": [
     {
      "aliases": [],
      "languageName": "csharp",
      "name": "csharp"
     }
    ]
   }
  }
 },
 "nbformat": 4,
 "nbformat_minor": 5
}
